{
 "cells": [
  {
   "cell_type": "markdown",
   "metadata": {},
   "source": [
    "# Парсинг МАС\n",
    "#### Анастасия Костяницына, Александра Дахина \n",
    "28 декабря 2018"
   ]
  },
  {
   "cell_type": "code",
   "execution_count": 18,
   "metadata": {},
   "outputs": [],
   "source": [
    "from bs4 import BeautifulSoup\n",
    "from bs4 import Tag\n",
    "import re\n",
    "from string import punctuation, digits\n",
    "from collections import defaultdict\n",
    "import os\n",
    "import pandas as pd\n",
    "import numpy as np\n",
    "from copy import deepcopy\n",
    "import copy"
   ]
  },
  {
   "cell_type": "code",
   "execution_count": 2,
   "metadata": {},
   "outputs": [],
   "source": [
    "from string import punctuation, digits\n",
    "punctuation = set(punctuation + '«»—…“”\\n\\t' + digits)"
   ]
  },
  {
   "cell_type": "markdown",
   "metadata": {},
   "source": [
    "Пример структуры для грам. значений:"
   ]
  },
  {
   "cell_type": "markdown",
   "metadata": {},
   "source": [
    "<superEntry>\n",
    "    <metalemma></metalemma>\n",
    "    <entry>\n",
    "        <form>\n",
    "            + <orth></orth>\n",
    "            + <usg type=\"time\"> temporal, historical era (‘archaic’, ‘old’, etc.) </usg>\n",
    "            + <usg type=\"reg\"> register = книжн, разг, </usg>\n",
    "            + <usg type=\"style\"> style (figurative, literal, etc.) + ирон., негативн., положит. </usg>\n",
    "            + <usg type=\"dom\"> domain, сфера деятельности</usg>\n",
    "        </form>\n",
    "        <gramGrp>\n",
    "            + <pos> ч.речи </pos>\n",
    "            + <gender>род</gender>\n",
    "            + <num>число</num>\"\n",
    "            +<per>лицо</per>\n",
    "            + <mood>наклонение</mood>\n",
    "            + <asp> вид (совершенный/несовершенный) </asp>\n",
    "            + <transit> переходный/непереходный </transit>\n",
    "            <refl> возвратность </refl>\n",
    "            + <pron_type> личное/неличное </pron_type>\n",
    "        </gramGrp>\n",
    "        <form type=\"inflected\">\n",
    "            + <case> ...</case>\n",
    "            + <num>число</num>\"\n",
    "            <tns>...</tns>\n",
    "            +  <orth  extent=\"part\"> здесь изменяемая часть, например, если в словаре написано \"мать, -ери\", то в этот тэг пишем -ери и указываем extent=\"part\", если в словаре написано \"мать, матери\", то сюда пишем \"матери\" и extent не указываем  </orth>\n",
    "            + <orth  > если указано несколько форм, можно указать несколько orth, например для словарного входа \"take; took, taken\" можно написать сюда took и taken</orth>\n",
    "        </form>\n",
    "    </entry>\n",
    "</superEntry>"
   ]
  },
  {
   "cell_type": "markdown",
   "metadata": {},
   "source": [
    "## Функции:"
   ]
  },
  {
   "cell_type": "code",
   "execution_count": 3,
   "metadata": {},
   "outputs": [],
   "source": [
    "def add_lemma(cur_soup, unique_entry):\n",
    "    \n",
    "    '''\n",
    "    Добавляет лемму в шаблон\n",
    "    '''\n",
    "\n",
    "    cur_soup.metalemma.string = unique_entry\n",
    "    cur_soup.orth.string = unique_entry\n",
    "    cur_soup.orth['main'] = \"True\""
   ]
  },
  {
   "cell_type": "code",
   "execution_count": 4,
   "metadata": {},
   "outputs": [],
   "source": [
    "def add_pos(entr_soup, entry, data):\n",
    "    \n",
    "    '''\n",
    "    Добавляет часть речи в шаблон\n",
    "    '''\n",
    "\n",
    "    ps = data.loc[data['mas'] == entry[0]]['_PoS'].tolist()[0]\n",
    "    if ps != []:\n",
    "        entr_soup.gramgrp.append(cur_soup.new_tag('pos'))\n",
    "        entr_soup.gramgrp.pos.string = ps"
   ]
  },
  {
   "cell_type": "code",
   "execution_count": 5,
   "metadata": {},
   "outputs": [],
   "source": [
    "def new_tag(parent, child, entr_soup, val, name='type', attr=False):\n",
    "    \n",
    "    '''\n",
    "    Создает новый тег по заданным пар-ам\n",
    "    '''\n",
    "    \n",
    "    new = entr_soup.new_tag(child)\n",
    "    if attr:\n",
    "        new[name] = attr\n",
    "    new.string = val\n",
    "    parent.append(new)"
   ]
  },
  {
   "cell_type": "code",
   "execution_count": 6,
   "metadata": {},
   "outputs": [],
   "source": [
    "def searching(entr_soup, data, item, name, index=False):\n",
    "    \n",
    "    '''\n",
    "    Ищет в столбце информацию, которая заключена в тегах b, u, i\n",
    "    Ищет окончания слов (например, -а)\n",
    "    \n",
    "    b - вариант написания\n",
    "    i - род, число, стиль, часть речи, вид, падеж\n",
    "    u - формы слова \n",
    "    \n",
    "    parent - то, куда потом нужно будет вставлять информацию, найденную в тегах\n",
    "    '''\n",
    "    \n",
    "    gr = data.loc[data['mas'] == item][name].tolist()[0]\n",
    "    if gr == '':\n",
    "        return None, None\n",
    "\n",
    "    if index is False:\n",
    "        parent_f = entr_soup.find(\"form\")\n",
    "        parent_fi = entr_soup.find(\"form\", type=\"inflected\")\n",
    "        parent_gr = entr_soup.find(\"gramgrp\")\n",
    "        parent = (parent_f, parent_fi, parent_gr)\n",
    "        adding_soup = entr_soup.entry\n",
    "    \n",
    "    else:\n",
    "        parent_sns = entr_soup.find(\"sense\", n=str(index+1))\n",
    "        parent_gr = parent_sns.find(\"gramgrp\")\n",
    "        parent = (parent_sns, parent_gr)\n",
    "        adding_soup = parent_sns\n",
    "        \n",
    "    b = re.findall('\\[b\\](.*?)\\[/b\\]', gr)\n",
    "    i = re.findall('\\[i\\](.*?)\\[/i\\]', gr)\n",
    "    u = re.findall('\\[u\\](.*?)\\[/u\\]', gr)\n",
    "    non = re.findall('(\\-[a-zA-Zа-яА-Я]+?)\\\\b', gr)\n",
    "    \n",
    "    together = [b, i, u, non]\n",
    "    \n",
    "    if together == [[], [], [], []]:\n",
    "        new_tag(adding_soup, 'note', entr_soup, gr)\n",
    "    \n",
    "    return parent, together"
   ]
  },
  {
   "cell_type": "code",
   "execution_count": 7,
   "metadata": {},
   "outputs": [],
   "source": [
    "def in_tags(log, entr_soup, data, entry, tags, parent_fi, parent_f, parent_gr, adding_soup, index=False):\n",
    "    \n",
    "    '''\n",
    "    Вставляет найденную информацию в тегах таблицы в нужное место шаблона\n",
    "    '''\n",
    "\n",
    "    global punctuation, dom_values, gender_values, num_values, case_values, reg_values, time_values, per_values, style_values, asp_values, transit_values, mood_values, pron_type_values \n",
    "  \n",
    "    b, i, u, non = tags\n",
    "    \n",
    "    for val in non:\n",
    "        if val not in log['orth_part']:\n",
    "            new_tag(parent_fi, 'orth', entr_soup, val, name='extent', attr='part')\n",
    "            log['orth_part'].add(val)\n",
    "        \n",
    "    \n",
    "    for val in b: \n",
    "        val = val.strip(''.join(punctuation))\n",
    "        if val not in log['orth']:\n",
    "            new_tag(parent_f, 'orth', entr_soup, val)\n",
    "            log['orth'].add(val)\n",
    "    \n",
    "    for val in u:\n",
    "        if len(val) >= 2:\n",
    "            if val[:2] == data.loc[data['mas'] == entry[0]]['Lemma.1'].tolist()[0][:2]:\n",
    "                if val not in log['orth']:\n",
    "                    new_tag(parent_fi, 'orth', entr_soup, val)\n",
    "                    log['orth'].add(val)\n",
    "            else:\n",
    "                if '-' not in val:\n",
    "                    val = '-' + val\n",
    "                if val not in log['orth_part']:\n",
    "                    new_tag(parent_fi, 'orth', entr_soup, val, name='extent', attr='part')\n",
    "                    log['orth_part'].add(val)\n",
    "    \n",
    "    for val in i:\n",
    "\n",
    "        val = val.lower()\n",
    "        gender = re.findall(gender_values, val)\n",
    "        num = re.findall(num_values, val)\n",
    "        reg = re.findall(reg_values, val)\n",
    "        time = re.findall(time_values, val)\n",
    "        style = re.findall(style_values, val)\n",
    "        dom = re.findall(dom_values, val)\n",
    "        asp = re.findall(asp_values, val)\n",
    "        transit = re.findall(transit_values, val)\n",
    "        mood = re.findall(mood_values, val)\n",
    "        pron_type = re.findall(pron_type_values, val)\n",
    "        per = re.findall(per_values, val)\n",
    "        \n",
    "        for g in gender: new_tag(parent_gr, 'gender', entr_soup, g)\n",
    "        for g in num: new_tag(parent_gr, 'num', entr_soup, g)\n",
    "        for g in reg: new_tag(parent_f, 'usg', entr_soup, g, attr=\"reg\")\n",
    "        for g in time: new_tag(parent_f, 'usg', entr_soup, g, attr=\"time\")\n",
    "        for g in style: new_tag(parent_f, 'usg', entr_soup, g, attr=\"style\")\n",
    "        for g in dom: new_tag(parent_f, 'usg', entr_soup, g, attr=\"dom\")\n",
    "        for g in asp: new_tag(parent_gr, 'asp', entr_soup, g)\n",
    "        for g in transit: new_tag(parent_gr, 'transit', entr_soup, g)\n",
    "        for g in mood: new_tag(parent_gr, 'mood', entr_soup, g)\n",
    "        for g in pron_type: new_tag(parent_gr, 'pron_type', entr_soup, g)\n",
    "        for g in per: new_tag(parent_gr, 'per', entr_soup, g)\n",
    "            \n",
    "        together = [gender, num, reg, time, style, dom, asp, transit, mood, pron_type, per]\n",
    "            \n",
    "        if index is False:\n",
    "            case = re.findall(case_values, val)\n",
    "            for g in case: new_tag(parent_fi, 'case', entr_soup, g)\n",
    "            together.append(case)\n",
    "\n",
    "        if together == [[] for _ in range(len(together))]:\n",
    "            new_tag(adding_soup, 'note', entr_soup, val)\n",
    "        "
   ]
  },
  {
   "cell_type": "code",
   "execution_count": 8,
   "metadata": {},
   "outputs": [],
   "source": [
    "def add_gram(entr_soup, entry, data, name):\n",
    "    '''\n",
    "    Добавляет информацию из столбика (GrAll)\n",
    "    '''\n",
    "\n",
    "    log = defaultdict(set)\n",
    "    parent, tags = searching(entr_soup, data, entry[0], name)\n",
    "    \n",
    "    if (parent, tags) != (None, None):\n",
    "        parent_f, parent_fi, parent_gr = parent\n",
    "        in_tags(log, entr_soup, data, entry, tags, parent_fi, parent_f, parent_gr, entr_soup, index=False)\n",
    "    "
   ]
  },
  {
   "cell_type": "code",
   "execution_count": 9,
   "metadata": {},
   "outputs": [],
   "source": [
    "def add_gram2_3(entr_soup, entry, data, name):\n",
    "    \n",
    "    '''\n",
    "    Добавляет информацию из столбика (Gr2) или (Gr3)\n",
    "    '''\n",
    "    \n",
    "    for index, item in enumerate(entry):\n",
    "\n",
    "        log = defaultdict(set)\n",
    "        parent, tags = searching(entr_soup, data, item, name, index=index)\n",
    "        if (parent, tags) != (None, None):\n",
    "            parent_sns, parent_gr = parent\n",
    "            in_tags(log, entr_soup, data, entry, tags, parent_sns, parent_sns, parent_gr, parent_sns, index=index)"
   ]
  },
  {
   "cell_type": "code",
   "execution_count": 15,
   "metadata": {},
   "outputs": [],
   "source": [
    "def create_entry():\n",
    "    \n",
    "    '''\n",
    "    Если слово может иметь несколько частей речи, они оформляются как hom.\n",
    "    Функуия сосздает дополнительные entry\n",
    "    '''\n",
    "    \n",
    "    ex = '<entry><form><orth></orth></form><gramGrp></gramGrp><form type=\"inflected\"></form><sense></sense></entry>'\n",
    "    soup = BeautifulSoup(ex, 'lxml')\n",
    "    soup.entry['type'] = 'hom'\n",
    "    return soup"
   ]
  },
  {
   "cell_type": "markdown",
   "metadata": {},
   "source": [
    "Регулярные выражения для поиски информации"
   ]
  },
  {
   "cell_type": "code",
   "execution_count": 12,
   "metadata": {},
   "outputs": [],
   "source": [
    "dom_values = '\\\\b(Сад\\.|с\\.\\-х|Спец\\.|Архит\\.|Авиа\\.|Опт\\.|астр\\.|Мед\\.|Зоол\\.|этногр\\.|ист\\.|Физ\\.|хим\\.|Мат\\.|Обл\\.|Фин\\.|Ж\\.-д\\.|Астр\\.|Психол\\.|Грамм\\.|лит\\.|Полигр\\.|Тех\\.|Дипл\\.|Муз\\.|Биол\\.|Пед\\.|Филос\\.|Метеор\\.|Бухг\\.|Церк\\.|Трад\\.\\-поэт\\.|Лингв\\.|Юр\\.|Геол\\.|Биохим\\.|Анат\\.|Охот\\.|Кулин\\.|Воен\\.)'.lower()\n",
    "gender_values = '\\\\b(ж\\.|м\\.|ср\\.)'\n",
    "num_values = '\\\\b(мн\\.|ед\\.)'\n",
    "case_values = '\\\\b(им\\.|род\\.|вин\\.|винительным|дат\\.|предл\\.|твор\\.|творительным)'\n",
    "reg_values = '\\\\b(Разг\\.|Книжн\\.|Прост\\.|прост\\.|книжн\\.|разг\\.|Груб\\. прост\\.|Прост\\. пренебр\\.)'.lower()\n",
    "time_values = '\\\\b(устар\\.)'\n",
    "style_values = '\\\\b(ирон\\.|высок\\.)'\n",
    "asp_values = '\\\\b(сов\\.|несов\\.)'\n",
    "transit_values = '\\\\b(перех\\.|неперех\\.)'\n",
    "mood_values = '\\\\b(повел\\.)'\n",
    "pron_type_values = '\\\\b(личн\\.|неличн\\.)'\n",
    "per_values = '\\\\b([1-3] ?л\\.)'"
   ]
  },
  {
   "cell_type": "markdown",
   "metadata": {},
   "source": [
    "Шаблон вхождения"
   ]
  },
  {
   "cell_type": "code",
   "execution_count": 14,
   "metadata": {},
   "outputs": [],
   "source": [
    "xml_n = '<superEntry><metalemma></metalemma><entry><form><orth></orth></form><gramGrp></gramGrp><form type=\"inflected\"></form><sense></sense></entry></superEntry>'\n"
   ]
  },
  {
   "cell_type": "markdown",
   "metadata": {},
   "source": [
    "## Данные"
   ]
  },
  {
   "cell_type": "code",
   "execution_count": 16,
   "metadata": {},
   "outputs": [],
   "source": [
    "data = pd.read_csv('MAS/test.csv',  sep=';', na_values= np.nan)\n",
    "#data = pd.read_csv('/Users/Stoneberry/Desktop/Uni/Мастерская/MAS/masR_Ja.csv',  sep=';', na_values= np.nan)\n",
    "data = data.fillna('')"
   ]
  },
  {
   "cell_type": "code",
   "execution_count": 172,
   "metadata": {},
   "outputs": [
    {
     "data": {
      "text/html": [
       "<div>\n",
       "<style scoped>\n",
       "    .dataframe tbody tr th:only-of-type {\n",
       "        vertical-align: middle;\n",
       "    }\n",
       "\n",
       "    .dataframe tbody tr th {\n",
       "        vertical-align: top;\n",
       "    }\n",
       "\n",
       "    .dataframe thead th {\n",
       "        text-align: right;\n",
       "    }\n",
       "</style>\n",
       "<table border=\"1\" class=\"dataframe\">\n",
       "  <thead>\n",
       "    <tr style=\"text-align: right;\">\n",
       "      <th></th>\n",
       "      <th>1</th>\n",
       "      <th>mas</th>\n",
       "      <th>Lex</th>\n",
       "      <th>Entr</th>\n",
       "      <th>Lemma</th>\n",
       "      <th>(Gr)</th>\n",
       "      <th>(GrAll)</th>\n",
       "      <th>(n)</th>\n",
       "      <th>(Gr2)</th>\n",
       "      <th>Lemma.1</th>\n",
       "      <th>_PoS</th>\n",
       "      <th>n</th>\n",
       "      <th>МУ</th>\n",
       "      <th>(Def)</th>\n",
       "      <th>(Gr3)</th>\n",
       "      <th>(Ex)</th>\n",
       "      <th>Unnamed: 16</th>\n",
       "    </tr>\n",
       "  </thead>\n",
       "  <tbody>\n",
       "    <tr>\n",
       "      <th>0</th>\n",
       "      <td>371</td>\n",
       "      <td>масР0198A</td>\n",
       "      <td>раз...</td>\n",
       "      <td>РАЗ…</td>\n",
       "      <td>раз</td>\n",
       "      <td>([i]а также[/i] [b]разо...[/b], [b]разъ...[/b]...</td>\n",
       "      <td>([i]а также[/i] [b]разо...[/b], [b]разъ...[/b]...</td>\n",
       "      <td>%n=IА</td>\n",
       "      <td></td>\n",
       "      <td>раз</td>\n",
       "      <td>COM</td>\n",
       "      <td>IА</td>\n",
       "      <td></td>\n",
       "      <td>Употребляется при образовании глаголов и обозн...</td>\n",
       "      <td></td>\n",
       "      <td></td>\n",
       "      <td></td>\n",
       "    </tr>\n",
       "    <tr>\n",
       "      <th>1</th>\n",
       "      <td>372</td>\n",
       "      <td>масР0198B</td>\n",
       "      <td></td>\n",
       "      <td></td>\n",
       "      <td>раз</td>\n",
       "      <td></td>\n",
       "      <td>([i]а также[/i] [b]разо...[/b], [b]разъ...[/b]...</td>\n",
       "      <td>%n=IБ</td>\n",
       "      <td></td>\n",
       "      <td>раз</td>\n",
       "      <td>COM</td>\n",
       "      <td>IБ</td>\n",
       "      <td></td>\n",
       "      <td>Образует форму совершенного вида некоторых гла...</td>\n",
       "      <td></td>\n",
       "      <td></td>\n",
       "      <td></td>\n",
       "    </tr>\n",
       "    <tr>\n",
       "      <th>2</th>\n",
       "      <td>373</td>\n",
       "      <td>масР0198C</td>\n",
       "      <td></td>\n",
       "      <td></td>\n",
       "      <td>раз</td>\n",
       "      <td></td>\n",
       "      <td>([i]а также[/i] [b]разо...[/b], [b]разъ...[/b]...</td>\n",
       "      <td>%n=II</td>\n",
       "      <td></td>\n",
       "      <td>раз</td>\n",
       "      <td>COM</td>\n",
       "      <td>II</td>\n",
       "      <td></td>\n",
       "      <td>Употребляется при образовании прилагательных и...</td>\n",
       "      <td></td>\n",
       "      <td></td>\n",
       "      <td></td>\n",
       "    </tr>\n",
       "    <tr>\n",
       "      <th>3</th>\n",
       "      <td>374</td>\n",
       "      <td>масР0198D</td>\n",
       "      <td></td>\n",
       "      <td></td>\n",
       "      <td>раз</td>\n",
       "      <td></td>\n",
       "      <td>([i]а также[/i] [b]разо...[/b], [b]разъ...[/b]...</td>\n",
       "      <td>%n=III</td>\n",
       "      <td></td>\n",
       "      <td>раз</td>\n",
       "      <td>COM</td>\n",
       "      <td>III</td>\n",
       "      <td></td>\n",
       "      <td>Употребляется при образовании существительных ...</td>\n",
       "      <td></td>\n",
       "      <td></td>\n",
       "      <td></td>\n",
       "    </tr>\n",
       "    <tr>\n",
       "      <th>4</th>\n",
       "      <td>375</td>\n",
       "      <td>масР0199A</td>\n",
       "      <td>раз1</td>\n",
       "      <td>РАЗ1</td>\n",
       "      <td>раз1</td>\n",
       "      <td>-а (-у), [i]мн.[/i] [u]разы'[/u], [u]раз[/u], ...</td>\n",
       "      <td>-а (-у), [i]мн.[/i] [u]разы'[/u], [u]раз[/u], ...</td>\n",
       "      <td>%n=1</td>\n",
       "      <td></td>\n",
       "      <td>раз</td>\n",
       "      <td>С</td>\n",
       "      <td>1</td>\n",
       "      <td></td>\n",
       "      <td>В сочетании с числительным «один» или без него...</td>\n",
       "      <td></td>\n",
       "      <td>[i]— Жизнь дается один раз, и хочется прожить ...</td>\n",
       "      <td></td>\n",
       "    </tr>\n",
       "  </tbody>\n",
       "</table>\n",
       "</div>"
      ],
      "text/plain": [
       "     1        mas     Lex  Entr Lemma  \\\n",
       "0  371  масР0198A  раз...  РАЗ…   раз   \n",
       "1  372  масР0198B                 раз   \n",
       "2  373  масР0198C                 раз   \n",
       "3  374  масР0198D                 раз   \n",
       "4  375  масР0199A    раз1  РАЗ1  раз1   \n",
       "\n",
       "                                                (Gr)  \\\n",
       "0  ([i]а также[/i] [b]разо...[/b], [b]разъ...[/b]...   \n",
       "1                                                      \n",
       "2                                                      \n",
       "3                                                      \n",
       "4  -а (-у), [i]мн.[/i] [u]разы'[/u], [u]раз[/u], ...   \n",
       "\n",
       "                                             (GrAll)     (n) (Gr2) Lemma.1  \\\n",
       "0  ([i]а также[/i] [b]разо...[/b], [b]разъ...[/b]...   %n=IА           раз   \n",
       "1  ([i]а также[/i] [b]разо...[/b], [b]разъ...[/b]...   %n=IБ           раз   \n",
       "2  ([i]а также[/i] [b]разо...[/b], [b]разъ...[/b]...   %n=II           раз   \n",
       "3  ([i]а также[/i] [b]разо...[/b], [b]разъ...[/b]...  %n=III           раз   \n",
       "4  -а (-у), [i]мн.[/i] [u]разы'[/u], [u]раз[/u], ...    %n=1           раз   \n",
       "\n",
       "  _PoS    n МУ                                              (Def) (Gr3)  \\\n",
       "0  COM   IА     Употребляется при образовании глаголов и обозн...         \n",
       "1  COM   IБ     Образует форму совершенного вида некоторых гла...         \n",
       "2  COM   II     Употребляется при образовании прилагательных и...         \n",
       "3  COM  III     Употребляется при образовании существительных ...         \n",
       "4    С    1     В сочетании с числительным «один» или без него...         \n",
       "\n",
       "                                                (Ex) Unnamed: 16  \n",
       "0                                                                 \n",
       "1                                                                 \n",
       "2                                                                 \n",
       "3                                                                 \n",
       "4  [i]— Жизнь дается один раз, и хочется прожить ...              "
      ]
     },
     "execution_count": 172,
     "metadata": {},
     "output_type": "execute_result"
    }
   ],
   "source": [
    "data.head()"
   ]
  },
  {
   "cell_type": "markdown",
   "metadata": {},
   "source": [
    "Чтобы обеспечить простоту парсинга и сохранность структуры, групируем строки таблицы по леммам так, чтобы для каждой леммы отдельно были сгруппированы строки по части речи."
   ]
  },
  {
   "cell_type": "code",
   "execution_count": 19,
   "metadata": {},
   "outputs": [],
   "source": [
    "groups = data.groupby('Lemma.1')['mas'].apply(list)\n",
    "d = defaultdict(list)\n",
    "\n",
    "# каждое слово может иметь несколько омографов, группируем по ним\n",
    "for unique_entry in groups:\n",
    "    lemma = data.loc[data['mas'] == unique_entry[0]]['Lemma.1'].tolist()[0]\n",
    "    new = data.loc[data['mas'].isin(unique_entry)]\n",
    "    new_groups = new.groupby('Lemma')['mas'].apply(list)\n",
    "    d[lemma] = [i for i in new_groups]"
   ]
  },
  {
   "cell_type": "code",
   "execution_count": 20,
   "metadata": {},
   "outputs": [
    {
     "data": {
      "text/plain": [
       "0            COM\n",
       "1            COM\n",
       "2            COM\n",
       "3            COM\n",
       "4              С\n",
       "5              С\n",
       "6              С\n",
       "7              С\n",
       "8              С\n",
       "9              С\n",
       "10    ПРЕДИКАТИВ\n",
       "11         НАРЕЧ\n",
       "12          СОЮЗ\n",
       "Name: _PoS, dtype: object"
      ]
     },
     "execution_count": 20,
     "metadata": {},
     "output_type": "execute_result"
    }
   ],
   "source": [
    "data.loc[data['Lemma.1'] == 'раз']['_PoS']"
   ]
  },
  {
   "cell_type": "code",
   "execution_count": 21,
   "metadata": {},
   "outputs": [
    {
     "data": {
      "text/plain": [
       "[['масР0198A', 'масР0198B', 'масР0198C', 'масР0198D'],\n",
       " ['масР0199A',\n",
       "  'масР0199B',\n",
       "  'масР0199C',\n",
       "  'масР0199D',\n",
       "  'масР0199E',\n",
       "  'масР0199F'],\n",
       " ['масР0200A'],\n",
       " ['масР0201A'],\n",
       " ['масР0202A']]"
      ]
     },
     "execution_count": 21,
     "metadata": {},
     "output_type": "execute_result"
    }
   ],
   "source": [
    "d['раз']"
   ]
  },
  {
   "cell_type": "markdown",
   "metadata": {},
   "source": [
    "Все распаршенные вхождения"
   ]
  },
  {
   "cell_type": "code",
   "execution_count": 22,
   "metadata": {},
   "outputs": [],
   "source": [
    "all_ = [] "
   ]
  },
  {
   "cell_type": "markdown",
   "metadata": {},
   "source": [
    "Проходимся по таблице"
   ]
  },
  {
   "cell_type": "code",
   "execution_count": 23,
   "metadata": {},
   "outputs": [],
   "source": [
    "for unique_entry in d:\n",
    "\n",
    "    cur_soup = BeautifulSoup(copy.copy(xml_n), 'lxml')\n",
    "    add_lemma(cur_soup, unique_entry)\n",
    "    \n",
    "    for index, entry in enumerate(d[unique_entry]):\n",
    "\n",
    "        not_main = False\n",
    "\n",
    "        if index == 0:\n",
    "            cur_soup.entry['type'] = 'main' \n",
    "            entr_soup = cur_soup \n",
    "        else: \n",
    "            entr_soup = create_entry() # entr_soup - entry каждого значения\n",
    "            entr_soup.orth.string = unique_entry\n",
    "\n",
    "        add_pos(entr_soup, entry, data)\n",
    "        add_gram(entr_soup, entry, data, '(GrAll)')\n",
    "        add_gram2_3(entr_soup, entry, data, '(Gr2)')\n",
    "        add_gram2_3(entr_soup, entry, data, '(Gr3)')\n",
    "        cur_soup.superentry.append(entr_soup.entry)\n",
    "\n",
    "    all_.append(cur_soup)"
   ]
  },
  {
   "cell_type": "code",
   "execution_count": null,
   "metadata": {},
   "outputs": [],
   "source": []
  }
 ],
 "metadata": {
  "kernelspec": {
   "display_name": "Python 3",
   "language": "python",
   "name": "python3"
  },
  "language_info": {
   "codemirror_mode": {
    "name": "ipython",
    "version": 3
   },
   "file_extension": ".py",
   "mimetype": "text/x-python",
   "name": "python",
   "nbconvert_exporter": "python",
   "pygments_lexer": "ipython3",
   "version": "3.6.5"
  }
 },
 "nbformat": 4,
 "nbformat_minor": 1
}
