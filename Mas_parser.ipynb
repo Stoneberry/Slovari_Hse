{
 "cells": [
  {
   "cell_type": "code",
   "execution_count": 1,
   "metadata": {},
   "outputs": [],
   "source": [
    "from bs4 import BeautifulSoup\n",
    "from bs4 import Tag\n",
    "import re\n",
    "from string import punctuation, digits\n",
    "import os\n",
    "import pymorphy2\n",
    "import pandas as pd\n",
    "import numpy as np\n",
    "from copy import deepcopy\n",
    "import copy\n",
    "import pymorphy2\n",
    "import re"
   ]
  },
  {
   "cell_type": "code",
   "execution_count": 2,
   "metadata": {},
   "outputs": [
    {
     "name": "stdout",
     "output_type": "stream",
     "text": [
      "Collecting pymorphy2\n",
      "  Downloading https://files.pythonhosted.org/packages/a3/33/fff9675c68b5f6c63ec8c6e6ff57827dda28a1fa5b2c2d727dffff92dd47/pymorphy2-0.8-py2.py3-none-any.whl (46kB)\n",
      "\u001b[K    100% |████████████████████████████████| 51kB 3.1MB/s \n",
      "\u001b[?25hCollecting docopt>=0.6 (from pymorphy2)\n",
      "  Downloading https://files.pythonhosted.org/packages/a2/55/8f8cab2afd404cf578136ef2cc5dfb50baa1761b68c9da1fb1e4eed343c9/docopt-0.6.2.tar.gz\n",
      "Collecting pymorphy2-dicts<3.0,>=2.4 (from pymorphy2)\n",
      "  Downloading https://files.pythonhosted.org/packages/02/51/2465fd4f72328ab50877b54777764d928da8cb15b74e2680fc1bd8cb3173/pymorphy2_dicts-2.4.393442.3710985-py2.py3-none-any.whl (7.1MB)\n",
      "\u001b[K    100% |████████████████████████████████| 7.1MB 181kB/s \n",
      "\u001b[?25hCollecting dawg-python>=0.7 (from pymorphy2)\n",
      "  Downloading https://files.pythonhosted.org/packages/6a/84/ff1ce2071d4c650ec85745766c0047ccc3b5036f1d03559fd46bb38b5eeb/DAWG_Python-0.7.2-py2.py3-none-any.whl\n",
      "Building wheels for collected packages: docopt\n",
      "  Running setup.py bdist_wheel for docopt ... \u001b[?25l-\b \b\\\b \b|\b \bdone\n",
      "\u001b[?25h  Stored in directory: /home/sashamattini/.cache/pip/wheels/9b/04/dd/7daf4150b6d9b12949298737de9431a324d4b797ffd63f526e\n",
      "Successfully built docopt\n",
      "Installing collected packages: docopt, pymorphy2-dicts, dawg-python, pymorphy2\n",
      "Successfully installed dawg-python-0.7.2 docopt-0.6.2 pymorphy2-0.8 pymorphy2-dicts-2.4.393442.3710985\n",
      "\u001b[33mYou are using pip version 9.0.3, however version 10.0.1 is available.\n",
      "You should consider upgrading via the 'pip install --upgrade pip' command.\u001b[0m\n"
     ]
    }
   ],
   "source": [
    "!pip install pymorphy2"
   ]
  },
  {
   "cell_type": "code",
   "execution_count": 2,
   "metadata": {},
   "outputs": [],
   "source": [
    "from string import punctuation, digits\n",
    "punctuation = set(punctuation + '«»—…“”\\n\\t' + digits)\n",
    "table = str.maketrans({ch: None for ch in punctuation})"
   ]
  },
  {
   "cell_type": "code",
   "execution_count": 3,
   "metadata": {},
   "outputs": [],
   "source": [
    "def tokenize(text):\n",
    "    \"\"\"\n",
    "    Функция удаляет все знаки препинания.\n",
    "    \"\"\"\n",
    "    text = text.lower()\n",
    "    text = re.sub(r'[^\\w\\s]', '', text).replace('\\n', '')\n",
    "    text = re.sub(r'[\\s]{2,}', ' ', text)\n",
    "    return text.split(' ')"
   ]
  },
  {
   "cell_type": "code",
   "execution_count": 4,
   "metadata": {},
   "outputs": [],
   "source": [
    "def if_exists_filled(new_soup, name, tag, create=False):\n",
    "    \n",
    "    a = new_soup.find(name)\n",
    "\n",
    "    if not a:\n",
    "        \n",
    "        if create == True:\n",
    "            tag.append(new_soup.new_tag(name))\n",
    "            return 'Created'\n",
    "        else:\n",
    "            return None\n",
    "\n",
    "    elif a.string != 'None':\n",
    "        return 'Filled'\n",
    "\n",
    "    else:\n",
    "        return 'Empty'"
   ]
  },
  {
   "cell_type": "code",
   "execution_count": 5,
   "metadata": {},
   "outputs": [],
   "source": [
    "def create_style(cur_soup, line, tag, type1='style'):\n",
    "\n",
    "    usg = cur_soup.new_tag('usg', type=type1)\n",
    "    usg.string = line\n",
    "    tag.append(usg)\n"
   ]
  },
  {
   "cell_type": "code",
   "execution_count": 6,
   "metadata": {},
   "outputs": [],
   "source": [
    "def create_paradigm(cur_soup, prdgm, line):\n",
    "    \n",
    "    if_exists_filled(cur_soup, 'paradigm', cur_soup.gramgrp, create=True)\n",
    "    \n",
    "    if prdgm == True:\n",
    "        cur_soup.paradigm.append(', ' + line)\n",
    "    else:\n",
    "        cur_soup.paradigm.append(line)\n",
    "        prdgm = True\n",
    "    return prdgm\n"
   ]
  },
  {
   "cell_type": "code",
   "execution_count": 7,
   "metadata": {},
   "outputs": [],
   "source": [
    "def create_sense_and_style(cur_soup, sense_n, line, tag, type1='style'):\n",
    "    sns = cur_soup.new_tag('sense', n=sense_n)\n",
    "    create_style(cur_soup, line, sns, type1=type1)\n",
    "    tag.append(sns)"
   ]
  },
  {
   "cell_type": "code",
   "execution_count": 8,
   "metadata": {},
   "outputs": [],
   "source": [
    "def gram_info(line, cur_soup, style, sense_n, gr2=False):\n",
    "\n",
    "    # i\n",
    "    # стиль для прилагательных\n",
    "    # род существильного\n",
    "    # род + что-то у существительного\n",
    "    # число существительного и или + что-то типа падежа\n",
    "\n",
    "    tokens = re.findall('\\[(.)\\](.*?)\\[/.\\]', line)\n",
    "    prdgm = False\n",
    "    fill = 0\n",
    "    \n",
    "    if tokens:\n",
    "        for token in tokens:\n",
    "\n",
    "            if token[0] == 'u':\n",
    "\n",
    "                prdgm = create_paradigm(cur_soup, prdgm, token[1])\n",
    "                fill += 1\n",
    "    \n",
    "            elif token[0] == 'i':\n",
    "\n",
    "                words = token[1].split(' ')\n",
    "\n",
    "                for word in words:\n",
    "\n",
    "                    if cur_soup.pos.text == 'С':\n",
    "\n",
    "                        if word in ('ж.', 'м.', 'ср.'):\n",
    "\n",
    "                            if_exists_filled(cur_soup, 'gender', cur_soup.gramgrp, create=True)\n",
    "                            cur_soup.gender.string = word\n",
    "                            fill += 1\n",
    "\n",
    "                    if word in style:\n",
    "    \n",
    "                        if gr2 == True:\n",
    "                            if if_exists_filled(cur_soup, 'sense', cur_soup.entry) == None:\n",
    "                                create_sense_and_style(cur_soup, sense_n, word, cur_soup.entry)\n",
    "                                fill += 1\n",
    "                                \n",
    "                        if if_exists_filled(cur_soup, 'usg', cur_soup.entry) != 'Filled':\n",
    "                            create_style(cur_soup, word, cur_soup.entry)\n",
    "                            fill += 1\n",
    "\n",
    "    if cur_soup.pos.text == 'С':\n",
    "        line = line.strip(\"-\")\n",
    "        tokens = line.split(',')\n",
    "        if tokens:\n",
    "            if '[' not in tokens[0]:\n",
    "                prdgm = create_paradigm(cur_soup, prdgm, tokens[0])\n",
    "\n",
    "\n",
    "    if fill == 0 and gr2 == True:\n",
    "        if if_exists_filled(cur_soup, 'sense', cur_soup.entry) == None:\n",
    "            smt = re.sub('\\[.*?\\]', '', line)\n",
    "            create_sense_and_style(cur_soup, sense_n, smt, cur_soup.entry,  type1='other')\n",
    "        "
   ]
  },
  {
   "cell_type": "code",
   "execution_count": 9,
   "metadata": {},
   "outputs": [],
   "source": [
    "def write_sense(cur_soup, sense_n, definition, style):\n",
    "\n",
    "    Def = if_exists_filled(cur_soup, 'sense', cur_soup.entry)\n",
    "    \n",
    "    if Def == 'Empty':\n",
    "        if sns == 1:\n",
    "            cur_soup.sense.string = re.sub('\\[.*?\\]', '', definition)  #definition\n",
    "\n",
    "    elif Def == None or Def == 'Filled':\n",
    "        sens = cur_soup.new_tag('sense', n=sns)\n",
    "        df = cur_soup.new_tag('def')\n",
    "        txt = cur_soup.new_tag('text')\n",
    "        txt.string = re.sub('\\[.*?\\]', '', definition)\n",
    "        df.append(txt)\n",
    "        sens.append(df)\n",
    "        return sens"
   ]
  },
  {
   "cell_type": "code",
   "execution_count": 10,
   "metadata": {},
   "outputs": [],
   "source": [
    "def write_example(cur_soup, example, senses):\n",
    "\n",
    "    ct = cur_soup.new_tag('cit')\n",
    "\n",
    "    for token in re.findall('i\\](.+?)\\[/i\\](.*?)(?:\\[|$)', example):\n",
    "\n",
    "        if token[0] != '':\n",
    "            qt = cur_soup.new_tag('quote')\n",
    "            qt.string = token[0]\n",
    "            ct.append(qt)\n",
    "\n",
    "        if token[1] != '':\n",
    "            scr = cur_soup.new_tag('scr', code='')\n",
    "            scr.string = token[1]\n",
    "            ct.append(scr)\n",
    "\n",
    "    senses.append(ct)\n",
    "    return senses\n"
   ]
  },
  {
   "cell_type": "code",
   "execution_count": 46,
   "metadata": {},
   "outputs": [
    {
     "name": "stdout",
     "output_type": "stream",
     "text": [
      "ok\n"
     ]
    }
   ],
   "source": [
    "with open('masR_Ja_parsed.tei', 'w', encoding='utf-8') as g:\n",
    "    print('ok')"
   ]
  },
  {
   "cell_type": "code",
   "execution_count": 47,
   "metadata": {},
   "outputs": [
    {
     "name": "stderr",
     "output_type": "stream",
     "text": [
      "c:\\python\\python36-32\\lib\\site-packages\\IPython\\core\\interactiveshell.py:2728: DtypeWarning: Columns (11) have mixed types. Specify dtype option on import or set low_memory=False.\n",
      "  interactivity=interactivity, compiler=compiler, result=result)\n"
     ]
    }
   ],
   "source": [
    "data = pd.read_csv('masR_Ja.txt',  sep='\\t', na_values= np.nan)\n",
    "data = data.fillna(0)"
   ]
  },
  {
   "cell_type": "code",
   "execution_count": 48,
   "metadata": {},
   "outputs": [
    {
     "data": {
      "text/html": [
       "<div>\n",
       "<style scoped>\n",
       "    .dataframe tbody tr th:only-of-type {\n",
       "        vertical-align: middle;\n",
       "    }\n",
       "\n",
       "    .dataframe tbody tr th {\n",
       "        vertical-align: top;\n",
       "    }\n",
       "\n",
       "    .dataframe thead th {\n",
       "        text-align: right;\n",
       "    }\n",
       "</style>\n",
       "<table border=\"1\" class=\"dataframe\">\n",
       "  <thead>\n",
       "    <tr style=\"text-align: right;\">\n",
       "      <th></th>\n",
       "      <th>0001</th>\n",
       "      <th>mas</th>\n",
       "      <th>Lex</th>\n",
       "      <th>Entr</th>\n",
       "      <th>Lemma</th>\n",
       "      <th>(Gr)</th>\n",
       "      <th>(GrAll)</th>\n",
       "      <th>(n)</th>\n",
       "      <th>(Gr2)</th>\n",
       "      <th>Lemma.1</th>\n",
       "      <th>_PoS</th>\n",
       "      <th>_n</th>\n",
       "      <th>МУ</th>\n",
       "      <th>(Def)</th>\n",
       "      <th>(Gr3)</th>\n",
       "      <th>(Ex)</th>\n",
       "      <th>Unnamed: 16</th>\n",
       "    </tr>\n",
       "  </thead>\n",
       "  <tbody>\n",
       "    <tr>\n",
       "      <th>0</th>\n",
       "      <td>2</td>\n",
       "      <td>масР0001A</td>\n",
       "      <td>р</td>\n",
       "      <td>Р</td>\n",
       "      <td>р</td>\n",
       "      <td>0</td>\n",
       "      <td>0</td>\n",
       "      <td>%n=0</td>\n",
       "      <td>0</td>\n",
       "      <td>р</td>\n",
       "      <td>С</td>\n",
       "      <td>%n=0</td>\n",
       "      <td>0.0</td>\n",
       "      <td>[i]см.[/i] [u]эр[/u].</td>\n",
       "      <td>0</td>\n",
       "      <td>0</td>\n",
       "      <td>0.0</td>\n",
       "    </tr>\n",
       "    <tr>\n",
       "      <th>1</th>\n",
       "      <td>3</td>\n",
       "      <td>масР0002A</td>\n",
       "      <td>раб</td>\n",
       "      <td>РАБ</td>\n",
       "      <td>раб</td>\n",
       "      <td>-а', [i]м.[/i]</td>\n",
       "      <td>-а', [i]м.[/i]</td>\n",
       "      <td>%n=1</td>\n",
       "      <td>0</td>\n",
       "      <td>раб</td>\n",
       "      <td>С</td>\n",
       "      <td>1</td>\n",
       "      <td>0.0</td>\n",
       "      <td>Человек, лишенный средств производства и являю...</td>\n",
       "      <td>0</td>\n",
       "      <td>[i]Рабовладельцы и рабы — первое крупное делен...</td>\n",
       "      <td>0.0</td>\n",
       "    </tr>\n",
       "    <tr>\n",
       "      <th>2</th>\n",
       "      <td>4</td>\n",
       "      <td>масР0002B</td>\n",
       "      <td>0</td>\n",
       "      <td>0</td>\n",
       "      <td>раб</td>\n",
       "      <td>0</td>\n",
       "      <td>-а', [i]м.[/i]</td>\n",
       "      <td>%||</td>\n",
       "      <td>0</td>\n",
       "      <td>раб</td>\n",
       "      <td>С</td>\n",
       "      <td>1</td>\n",
       "      <td>0.0</td>\n",
       "      <td>Тот, кто является частной собственностью друго...</td>\n",
       "      <td>0</td>\n",
       "      <td>[i]Три тяжкие доли имела судьба, И первая доля...</td>\n",
       "      <td>0.0</td>\n",
       "    </tr>\n",
       "  </tbody>\n",
       "</table>\n",
       "</div>"
      ],
      "text/plain": [
       "   0001        mas  Lex Entr Lemma            (Gr)         (GrAll)   (n)  \\\n",
       "0     2  масР0001A    р    Р     р               0               0  %n=0   \n",
       "1     3  масР0002A  раб  РАБ   раб  -а', [i]м.[/i]  -а', [i]м.[/i]  %n=1   \n",
       "2     4  масР0002B    0    0   раб               0  -а', [i]м.[/i]   %||   \n",
       "\n",
       "  (Gr2) Lemma.1 _PoS    _n   МУ  \\\n",
       "0     0       р    С  %n=0  0.0   \n",
       "1     0     раб    С     1  0.0   \n",
       "2     0     раб    С     1  0.0   \n",
       "\n",
       "                                               (Def) (Gr3)  \\\n",
       "0                              [i]см.[/i] [u]эр[/u].     0   \n",
       "1  Человек, лишенный средств производства и являю...     0   \n",
       "2  Тот, кто является частной собственностью друго...     0   \n",
       "\n",
       "                                                (Ex)  Unnamed: 16  \n",
       "0                                                  0          0.0  \n",
       "1  [i]Рабовладельцы и рабы — первое крупное делен...          0.0  \n",
       "2  [i]Три тяжкие доли имела судьба, И первая доля...          0.0  "
      ]
     },
     "execution_count": 48,
     "metadata": {},
     "output_type": "execute_result"
    }
   ],
   "source": [
    "data.head(3)"
   ]
  },
  {
   "cell_type": "code",
   "execution_count": null,
   "metadata": {},
   "outputs": [],
   "source": []
  },
  {
   "cell_type": "code",
   "execution_count": 49,
   "metadata": {},
   "outputs": [
    {
     "name": "stdout",
     "output_type": "stream",
     "text": [
      "ЛОШАДКА\n"
     ]
    }
   ],
   "source": [
    "#texts = ['masA-J.txt', 'masK-P.txt', 'masK-P_2.txt', 'masR_Ja.txt']\n",
    "#for text in texts:\n",
    "#data = pd.read_csv('masA-J.txt',  sep='\\t', na_values= np.nan)\n",
    "#data = data.fillna(0)\n",
    "\n",
    "all_ = []\n",
    "previous = ''\n",
    "xml_n = '<superEntry><metalemma></metalemma><entry><form><orth></orth><inflection></inflection><gramGrp></gramGrp></form></entry></superEntry>'\n",
    "sns = 1\n",
    "style = ['Зоол.', 'Разг.', 'С.-х.', 'зват.', 'Тех.', 'Радио.', 'Рыб.', 'Устар., теперь ирон', 'Архит.', 'Спец.', 'Сад.', 'перен. Устар.', 'повел.', 'Прост. устар.', 'Лит.', 'Типогр.', 'Тех.', 'Воен.', 'Разг. устар.', 'безл., также без доп. Разг.', 'безл. Прост.', 'прост.', 'Лит.', 'Хим.', 'Устар.', 'безл. Разг.', 'перен.; обычно чего.', 'Обл.', 'зоол.', 'разг.', 'архит.', 'хим.', 'безл.', 'устар.', 'обл.', 'шутл.-ирон.', 'перен.', 'Мат.', 'Физ.']\n",
    "other = ['в знач. сущ.', 'с определением.', 'в знач. союза', 'в знач. прил.', 'в знач. сущ.', 'безл. в знач. сказ.', 'в безл. употр.']\n",
    "\n",
    "\n",
    "for i in range(data.shape[0]):\n",
    "\n",
    "    senses = False\n",
    "\n",
    "    lemma = data.loc[i]['Lemma.1']\n",
    "\n",
    "    if lemma != previous:\n",
    "\n",
    "        previous = lemma\n",
    "\n",
    "        if i != 0:\n",
    "            all_.append(cur_soup)\n",
    "\n",
    "        cur_soup = BeautifulSoup(copy.copy(xml_n), 'lxml')\n",
    "        cur_soup.orth.string = lemma #data.loc[i]['Entr']\n",
    "        #print(cur_soup)\n",
    "        sns = 1\n",
    "\n",
    "    if if_exists_filled(cur_soup, 'pos', cur_soup.gramgrp, create=True) != 'Filled':\n",
    "        cur_soup.pos.string = str(data.loc[i]['_PoS'])\n",
    "\n",
    "    for col_name in data.columns[(data.loc[i] != 0) == True].tolist():\n",
    "\n",
    "        if col_name == 'Entr':\n",
    "            if_exists_filled(cur_soup, 'stress', cur_soup.entry, create=True)\n",
    "            cur_soup.stress.string = data.loc[i]['Entr']\n",
    "\n",
    "        elif col_name == '(Gr)':\n",
    "            gram_info(data.loc[i]['(Gr)'], cur_soup, style, sns)\n",
    "\n",
    "        elif col_name == '(Gr2)':\n",
    "            gram_info(data.loc[i]['(Gr2)'], cur_soup, style, sns, gr2=True)\n",
    "\n",
    "        elif col_name == '(Def)':\n",
    "            definition = data.loc[i]['(Def)']\n",
    "            senses = write_sense(cur_soup, sns, definition, style)\n",
    "            sns += 1\n",
    "\n",
    "        elif col_name == '(Ex)':\n",
    "            if senses:\n",
    "                example = data.loc[i]['(Ex)']\n",
    "                senses = write_example(cur_soup, example, senses)\n",
    "\n",
    "        if senses:\n",
    "            cur_soup.entry.append(senses)\n",
    "\n",
    "\n",
    "    if i == data.shape[0] - 1:\n",
    "        all_.append(cur_soup)\n",
    "\n",
    "\n",
    "#for i in all_:\n",
    "    #print(i)\n",
    "    #print()\n",
    "\n",
    "\n",
    "print('ЛОШАДКА')"
   ]
  },
  {
   "cell_type": "code",
   "execution_count": 50,
   "metadata": {},
   "outputs": [],
   "source": [
    "with open('masR_Ja_parsed.tei', 'a', encoding='utf-8') as f:\n",
    "    for i in all_:\n",
    "        i = i.superentry\n",
    "        f.write(i.prettify() + '\\n')\n",
    "        #print(i)\n",
    "        #print()"
   ]
  },
  {
   "cell_type": "code",
   "execution_count": 53,
   "metadata": {},
   "outputs": [],
   "source": [
    "with open('mas.tei', 'w', encoding='utf-8') as f:\n",
    "    f.write(main_1)"
   ]
  },
  {
   "cell_type": "code",
   "execution_count": 52,
   "metadata": {},
   "outputs": [],
   "source": [
    "main_1 = '<tei>\\n <file_desc>\\n  <respstmt>\\n   <name>\\n    Костяницына Анастасия, Матвеева Александра\\n   </name>\\\n",
    "\\n  </respstmt>\\n  <extent>\\n    количество словарных входов: 150 454\\n  </extent>\\\n",
    "\\n  <sourcedesc>\\n   <ref target=\"ссылка на словарь в интернете\">\\n     http://feb-web.ru/feb/mas/MAS-abc/default.asp\\\n",
    "\\n   </ref>\\n   <p>\\n     This database was converted from the MAS Dictionary.\\n    </p>\\n  </sourcedesc>\\\n",
    "\\n </file_desc>\\n <front>\\n  <head>\\n   <title dict_id=\"\">\\n     Малый Академический Словарь, МАС\\n   </title>\\\n",
    "\\n   <volume n=\"\" of=\"\">\\n   </volume>\\n   <author>\\n    РАН, Инcтитут лингвистических исследований\\n   </author>\\\n",
    "\\n   <publisher>\\n   </publisher>\\n   <editor>\\n    А.П. Евгеньева\\n   </editor>\\n   <edition>\\\n",
    "\\n    4-е издание, стереотипное\\n   </edition>\\n   <translator>\\n   </translator>\\n   <pubdate>\\n    1999\\\n",
    "\\n   </pubdate>\\n   <isbn>\\n   </isbn>\\n   <language type=\"content\">\\n    <idno type=\"iso639-3\">\\n     rus\\\n",
    "\\n    </idno>\\n   </language>\\n   <script type=\"rus\">\\n   </script>\\n  </head>\\n </front>\\n <body>\\n  <div>'\n"
   ]
  },
  {
   "cell_type": "code",
   "execution_count": 55,
   "metadata": {},
   "outputs": [],
   "source": [
    "dict_parts = ['masA-J_parsed.tei', 'masK-P_1_parsed.tei', 'masK-P_2_parsed.tei', 'masR_Ja_parsed.tei']\n",
    "\n",
    "for part in dict_parts:\n",
    "    with open('mas.tei', 'a', encoding='utf-8') as f:\n",
    "        p = open(part, 'r', encoding='utf-8')\n",
    "        p_text = p.read()\n",
    "        f.write(p_text)\n",
    "        p.close()"
   ]
  },
  {
   "cell_type": "code",
   "execution_count": 56,
   "metadata": {},
   "outputs": [],
   "source": [
    "with open('mas.tei', 'a', encoding='utf-8') as f:\n",
    "    f.write('  </div>\\n </body>\\n</tei>')"
   ]
  },
  {
   "cell_type": "code",
   "execution_count": null,
   "metadata": {
    "collapsed": true
   },
   "outputs": [],
   "source": []
  }
 ],
 "metadata": {
  "kernelspec": {
   "display_name": "Python 3",
   "language": "python",
   "name": "python3"
  },
  "language_info": {
   "codemirror_mode": {
    "name": "ipython",
    "version": 3
   },
   "file_extension": ".py",
   "mimetype": "text/x-python",
   "name": "python",
   "nbconvert_exporter": "python",
   "pygments_lexer": "ipython3",
   "version": "3.6.4"
  }
 },
 "nbformat": 4,
 "nbformat_minor": 1
}
